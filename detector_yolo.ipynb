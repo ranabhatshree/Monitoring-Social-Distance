{
 "cells": [
  {
   "cell_type": "code",
   "execution_count": null,
   "metadata": {},
   "outputs": [],
   "source": [
    "'''\n",
    "def detect_n_plot(img_path):\n",
    "    img = cv2.imread(img_path)\n",
    "    height, width, channels = img.shape\n",
    "    \n",
    "    # Detecting Objects\n",
    "    print(\"Detecting... please wait!\")\n",
    "    blob = cv2.dnn.blobFromImage(img, 0.00392, (416, 416), (0, 0, 0), True, crop=False)\n",
    "    net.setInput(blob)\n",
    "    outs = net.forward(output_layers)\n",
    "    \n",
    "    # Showing informations on the screen\n",
    "    class_ids = []\n",
    "    confidences = []\n",
    "    boxes = []\n",
    "    for out in outs:\n",
    "        for detection in out:\n",
    "            scores = detection[5:]\n",
    "            class_id = np.argmax(scores)\n",
    "            confidence = scores[class_id]\n",
    "            if confidence > 0.5 and class_id == 0:\n",
    "                # Object detected\n",
    "                center_x = int(detection[0] * width)\n",
    "                center_y = int(detection[1] * height)\n",
    "                w = int(detection[2] * width)\n",
    "                h = int(detection[3] * height)\n",
    "                # Rectangle coordinates\n",
    "                x = int(center_x - w / 2)\n",
    "                y = int(center_y - h / 2)\n",
    "                boxes.append([x, y, w, h])\n",
    "                confidences.append(float(confidence))\n",
    "                class_ids.append(class_id)\n",
    "                \n",
    "    indexes = cv2.dnn.NMSBoxes(boxes, confidences, 0.5, 0.4)\n",
    "\n",
    "    font = cv2.FONT_HERSHEY_PLAIN\n",
    "    person_found = 0\n",
    "    for i in range(len(boxes)):\n",
    "        if i in indexes:\n",
    "            x, y, w, h = boxes[i]\n",
    "            label = str(classes[class_ids[i]])\n",
    "            color = (0, 255, 0)\n",
    "            font_color = (0, 0, 255)\n",
    "            cv2.rectangle(img, (x, y), (x + w, y + h), color, 2)\n",
    "            cv2.putText(img, label, (x, y + 30), font, 1, font_color, 1)\n",
    "   \n",
    "    print(len(boxes))\n",
    "    cv2.imshow(\"Image\", img)\n",
    "    cv2.waitKey(0)\n",
    "    cv2.destroyAllWindows()\n",
    "'''"
   ]
  },
  {
   "cell_type": "code",
   "execution_count": 1,
   "metadata": {},
   "outputs": [],
   "source": [
    "import numpy as np\n",
    "import matplotlib.pyplot as plt\n",
    "import cv2\n",
    "import os\n",
    "import math"
   ]
  },
  {
   "cell_type": "code",
   "execution_count": 2,
   "metadata": {},
   "outputs": [],
   "source": [
    "from itertools import chain \n",
    "from constants import *"
   ]
  },
  {
   "cell_type": "code",
   "execution_count": 3,
   "metadata": {},
   "outputs": [
    {
     "data": {
      "text/plain": [
       "['coco.names', 'yolov3.cfg', 'yolov3.weights']"
      ]
     },
     "execution_count": 3,
     "metadata": {},
     "output_type": "execute_result"
    }
   ],
   "source": [
    "yolo_path = 'yolo_pretrained'\n",
    "SAFE_DISTANCE = 60\n",
    "os.listdir(yolo_path)\n"
   ]
  },
  {
   "cell_type": "markdown",
   "metadata": {},
   "source": [
    "# Load YOLO"
   ]
  },
  {
   "cell_type": "code",
   "execution_count": 5,
   "metadata": {},
   "outputs": [
    {
     "name": "stdout",
     "output_type": "stream",
     "text": [
      "Loading YOLO\n"
     ]
    }
   ],
   "source": [
    "print('Loading YOLO')\n",
    "net = cv2.dnn.readNet(\"yolo_pretrained/yolov3.weights\", \"yolo_pretrained/yolov3.cfg\")\n",
    "LABELS = []\n",
    "with open(\"yolo_pretrained/coco.names\", \"r\") as f:\n",
    "    LABELS = [line.strip() for line in f.readlines()]\n",
    "layer_names = net.getLayerNames()\n",
    "output_layers = [layer_names[i[0] - 1] for i in net.getUnconnectedOutLayers()]\n",
    "COLORS = np.random.uniform(0, 255, size=(len(LABELS), 3))"
   ]
  },
  {
   "cell_type": "code",
   "execution_count": 41,
   "metadata": {},
   "outputs": [
    {
     "name": "stdout",
     "output_type": "stream",
     "text": [
      "Detecting... please wait!\n"
     ]
    }
   ],
   "source": [
    "img = cv2.imread(\"test_images/people.jpg\")\n",
    "H, W, channels = img.shape\n",
    "    \n",
    "# Detecting Objects\n",
    "print(\"Detecting... please wait!\")\n",
    "blob = cv2.dnn.blobFromImage(img, 0.00392, (416, 416), (0, 0, 0), True, crop=False)\n",
    "net.setInput(blob)\n",
    "layer_outputs  = net.forward(output_layers)"
   ]
  },
  {
   "cell_type": "code",
   "execution_count": 42,
   "metadata": {},
   "outputs": [],
   "source": [
    "boxes = []\n",
    "confidences = []\n",
    "classIDs = []\n",
    "lines = []\n",
    "box_centers = []\n",
    "\n",
    "for output in layer_outputs:\n",
    "    for detection in output:\n",
    "\n",
    "        scores = detection[5:]\n",
    "        classID = np.argmax(scores)\n",
    "        confidence = scores[classID]\n",
    "\n",
    "        if confidence > 0.5 and classID == 0:\n",
    "            box = detection[0:4] * np.array([W, H, W, H])\n",
    "            (centerX, centerY, width, height) = box.astype('int')\n",
    "            x = int(centerX - (width / 2))\n",
    "            y = int(centerY - (height / 2))\n",
    "            box_centers = [centerX, centerY]\n",
    "            boxes.append([x, y, int(width), int(height)])\n",
    "            confidences.append(float(confidence))\n",
    "            classIDs.append(classID)"
   ]
  },
  {
   "cell_type": "code",
   "execution_count": 43,
   "metadata": {},
   "outputs": [],
   "source": [
    "idxs = cv2.dnn.NMSBoxes(boxes, confidences, 0.5, 0.3)\n",
    "\n",
    "if len(idxs) > 0:\n",
    "    unsafe = []\n",
    "    count = 0\n",
    "\n",
    "    for i in idxs.flatten():\n",
    "\n",
    "        (x, y) = (boxes[i][0], boxes[i][1])\n",
    "        (w, h) = (boxes[i][2], boxes[i][3])\n",
    "        centeriX = boxes[i][0] + (boxes[i][2] // 2)\n",
    "        centeriY = boxes[i][1] + (boxes[i][3] // 2)\n",
    "\n",
    "        color = [int(c) for c in COLORS[classIDs[i]]]\n",
    "        text = '{}: {:.4f}'.format(LABELS[classIDs[i]], confidences[i])\n",
    "\n",
    "        idxs_copy = list(idxs.flatten())\n",
    "        idxs_copy.remove(i)\n",
    "\n",
    "        for j in np.array(idxs_copy):\n",
    "            centerjX = boxes[j][0] + (boxes[j][2] // 2)\n",
    "            centerjY = boxes[j][1] + (boxes[j][3] // 2)\n",
    "\n",
    "            distance = math.sqrt(math.pow(centerjX - centeriX, 2) + math.pow(centerjY - centeriY, 2))\n",
    "\n",
    "            if distance <= SAFE_DISTANCE:\n",
    "                cv2.line(img, (boxes[i][0] + (boxes[i][2] // 2), boxes[i][1]  + (boxes[i][3] // 2)), (boxes[j][0] + (boxes[j][2] // 2), boxes[j][1] + (boxes[j][3] // 2)), (0, 0, 255), 2)\n",
    "                unsafe.append([centerjX, centerjY])\n",
    "                unsafe.append([centeriX, centeriY])\n",
    "\n",
    "        if centeriX in chain(*unsafe) and centeriY in chain(*unsafe):\n",
    "            count += 1\n",
    "            cv2.rectangle(img, (x, y), (x + w, y + h), (0, 0, 255), 1)\n",
    "        else:\n",
    "            cv2.rectangle(img, (x, y), (x + w, y + h), (0, 255, 0), 1)\n",
    "\n",
    "        cv2.putText(img, text, (x, y - 5), cv2.FONT_HERSHEY_SIMPLEX, 0.5, color, 1)\n",
    "        cv2.rectangle(img, (50, 50), (450, 90), (0, 0, 0), -1)\n",
    "        cv2.putText(img, 'No. of people unsafe: {}'.format(count), (70, 70), cv2.FONT_HERSHEY_SIMPLEX, 0.7, (0, 255, 0), 1)"
   ]
  },
  {
   "cell_type": "code",
   "execution_count": 44,
   "metadata": {},
   "outputs": [
    {
     "data": {
      "text/plain": [
       "True"
      ]
     },
     "execution_count": 44,
     "metadata": {},
     "output_type": "execute_result"
    }
   ],
   "source": [
    "# cv2.imwrite(\"detected.jpg\", img)\n",
    "cv2.imshow(\"Image\", img)\n",
    "cv2.waitKey(0)\n",
    "cv2.destroyAllWindows()"
   ]
  },
  {
   "cell_type": "code",
   "execution_count": null,
   "metadata": {},
   "outputs": [],
   "source": []
  }
 ],
 "metadata": {
  "kernelspec": {
   "display_name": "Python 3",
   "language": "python",
   "name": "python3"
  },
  "language_info": {
   "codemirror_mode": {
    "name": "ipython",
    "version": 3
   },
   "file_extension": ".py",
   "mimetype": "text/x-python",
   "name": "python",
   "nbconvert_exporter": "python",
   "pygments_lexer": "ipython3",
   "version": "3.7.6"
  }
 },
 "nbformat": 4,
 "nbformat_minor": 4
}
